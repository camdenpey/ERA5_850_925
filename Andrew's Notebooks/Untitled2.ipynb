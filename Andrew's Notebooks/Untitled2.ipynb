{
 "cells": [
  {
   "cell_type": "code",
   "execution_count": 10,
   "id": "68757078-2b00-48aa-b5e0-ad029c1c98e6",
   "metadata": {},
   "outputs": [],
   "source": [
    "import pandas as pd\n",
    "data = pd.read_csv(\"S:/Science_and_Research/ERA5_Reanalysis_1990-2020/SGF/1990 (done)/Springfield_1990_January_Clouds.csv\")"
   ]
  },
  {
   "cell_type": "code",
   "execution_count": 43,
   "id": "369da088-56c4-47e1-bbb0-d7b2d303b0ee",
   "metadata": {},
   "outputs": [],
   "source": [
    "data\n",
    "cloud_sum = []"
   ]
  },
  {
   "cell_type": "code",
   "execution_count": 45,
   "id": "c19d6d9c-c6e4-40c3-a117-7dea43ec3e83",
   "metadata": {},
   "outputs": [],
   "source": [
    "for i in range(round(len(data)/12)):\n",
    "    cloud_sum.append(sum(data[\"tcc\"][i*12:12 + i*12])/12)"
   ]
  },
  {
   "cell_type": "code",
   "execution_count": 21,
   "id": "c62cc95e-d1bc-49fb-89bf-0606e64a1b16",
   "metadata": {},
   "outputs": [
    {
     "data": {
      "text/plain": [
       "0.06476635106666666"
      ]
     },
     "execution_count": 21,
     "metadata": {},
     "output_type": "execute_result"
    }
   ],
   "source": [
    "sum(data[\"tcc\"][0:12])/12"
   ]
  },
  {
   "cell_type": "code",
   "execution_count": 52,
   "id": "19604513-aeb7-4429-864e-efbc432a19da",
   "metadata": {},
   "outputs": [
    {
     "ename": "ModuleNotFoundError",
     "evalue": "No module named 'matplotlib'",
     "output_type": "error",
     "traceback": [
      "\u001b[1;31m---------------------------------------------------------------------------\u001b[0m",
      "\u001b[1;31mModuleNotFoundError\u001b[0m                       Traceback (most recent call last)",
      "Cell \u001b[1;32mIn[52], line 1\u001b[0m\n\u001b[1;32m----> 1\u001b[0m \u001b[38;5;28;01mimport\u001b[39;00m \u001b[38;5;21;01mmatplotlib\u001b[39;00m\u001b[38;5;21;01m.\u001b[39;00m\u001b[38;5;21;01mpyplot\u001b[39;00m \u001b[38;5;28;01mas\u001b[39;00m \u001b[38;5;21;01mplt\u001b[39;00m\n\u001b[0;32m      2\u001b[0m plt\u001b[38;5;241m.\u001b[39mplot(cloud_sum, \u001b[38;5;28mlen\u001b[39m(cloud_sum))\n",
      "\u001b[1;31mModuleNotFoundError\u001b[0m: No module named 'matplotlib'"
     ]
    }
   ],
   "source": [
    "import matplotlib.pyplot as plt\n",
    "plt.plot(cloud_sum, len(cloud_sum))"
   ]
  },
  {
   "cell_type": "code",
   "execution_count": 51,
   "id": "b398b26f-bf61-4271-81ed-c10c7701c8b4",
   "metadata": {},
   "outputs": [],
   "source": []
  },
  {
   "cell_type": "code",
   "execution_count": null,
   "id": "9ce2acf4-23a3-42f4-95c5-78b3201489c8",
   "metadata": {},
   "outputs": [],
   "source": []
  }
 ],
 "metadata": {
  "kernelspec": {
   "display_name": "Python 3 (ipykernel)",
   "language": "python",
   "name": "python3"
  },
  "language_info": {
   "codemirror_mode": {
    "name": "ipython",
    "version": 3
   },
   "file_extension": ".py",
   "mimetype": "text/x-python",
   "name": "python",
   "nbconvert_exporter": "python",
   "pygments_lexer": "ipython3",
   "version": "3.12.4"
  }
 },
 "nbformat": 4,
 "nbformat_minor": 5
}
