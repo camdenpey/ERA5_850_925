{
 "cells": [
  {
   "cell_type": "code",
   "execution_count": 47,
   "id": "a476fe28-9a24-459f-b3d8-349b9baad55c",
   "metadata": {},
   "outputs": [],
   "source": [
    "import pandas as pd"
   ]
  },
  {
   "cell_type": "code",
   "execution_count": 48,
   "id": "3a56a2c5-9120-46a0-a182-a8952a64a1ee",
   "metadata": {},
   "outputs": [],
   "source": [
    "months_list = [\"January\", \"February\", \"March\", \"April\", \"May\", \"June\", \"July\", \"August\", \"September\", \"October\", \"November\", \"December\"]\n",
    "year = 1995\n",
    "starting_directory = \"S:/Science_and_Research/ERA5_Reanalysis_1990-2020/SGF/\""
   ]
  },
  {
   "cell_type": "code",
   "execution_count": 49,
   "id": "d94dd10d-0f94-4dd4-b9f4-ea90b3bfd3a8",
   "metadata": {},
   "outputs": [],
   "source": [
    "data = pd.read_csv(starting_directory + \"1995/Springfield_1995_January_clouds.csv\")"
   ]
  },
  {
   "cell_type": "code",
   "execution_count": 50,
   "id": "460fb00c-8e52-457d-be72-bcc1c37992e6",
   "metadata": {},
   "outputs": [
    {
     "data": {
      "text/plain": [
       "31.0"
      ]
     },
     "execution_count": 50,
     "metadata": {},
     "output_type": "execute_result"
    }
   ],
   "source": [
    "403/13"
   ]
  },
  {
   "cell_type": "code",
   "execution_count": 51,
   "id": "4ccb213d-ee13-43f5-b529-9f6f5b78642c",
   "metadata": {},
   "outputs": [],
   "source": [
    "cloud_sum = []\n",
    "month_counter = 1"
   ]
  },
  {
   "cell_type": "code",
   "execution_count": 52,
   "id": "871cfdcf-39c7-459a-a64c-4d9941e89686",
   "metadata": {},
   "outputs": [],
   "source": [
    "for i in range(31):\n",
    "    for k in range(12):\n",
    "        for j in range(round(len(data)/13)):\n",
    "            cloud_sum.append(sum(data[\"tcc\"][j*13:13 + j*13])/13)\n",
    "            if j == len(data)/13:\n",
    "                data =pd.read_csv(starting_directory+str(year)+\"_\"+months_list[month_counter]+\"_Clouds.csv\")\n",
    "    if months_list[month_counter] == \"December\":\n",
    "        year += 1\n",
    "        month_counter = 1\n",
    "        data = pd.read_csv(starting_directory+str(year)+\"_\"+months_list[month_counter]+\"_Clouds.csv\")"
   ]
  },
  {
   "cell_type": "code",
   "execution_count": 29,
   "id": "a0afee48-5328-4aed-bc04-642e822cd68b",
   "metadata": {},
   "outputs": [
    {
     "name": "stdout",
     "output_type": "stream",
     "text": [
      "S:/Science_and_Research/ERA5_Reanalysis_1990-2020/SGF/1995_February_Clouds.csv\n"
     ]
    }
   ],
   "source": [
    "print(starting_directory+str(year)+\"_\"+months_list[month_counter]+\"_Clouds.csv\")"
   ]
  },
  {
   "cell_type": "code",
   "execution_count": 53,
   "id": "4b95be6b-7a92-46ee-b313-261dbf3dd8bd",
   "metadata": {},
   "outputs": [
    {
     "data": {
      "text/plain": [
       "11532"
      ]
     },
     "execution_count": 53,
     "metadata": {},
     "output_type": "execute_result"
    }
   ],
   "source": [
    "cloud_sum["
   ]
  },
  {
   "cell_type": "code",
   "execution_count": null,
   "id": "2ab63039-d286-452e-ba41-af397333e232",
   "metadata": {},
   "outputs": [],
   "source": []
  }
 ],
 "metadata": {
  "kernelspec": {
   "display_name": "Python 3 (ipykernel)",
   "language": "python",
   "name": "python3"
  },
  "language_info": {
   "codemirror_mode": {
    "name": "ipython",
    "version": 3
   },
   "file_extension": ".py",
   "mimetype": "text/x-python",
   "name": "python",
   "nbconvert_exporter": "python",
   "pygments_lexer": "ipython3",
   "version": "3.12.4"
  }
 },
 "nbformat": 4,
 "nbformat_minor": 5
}
