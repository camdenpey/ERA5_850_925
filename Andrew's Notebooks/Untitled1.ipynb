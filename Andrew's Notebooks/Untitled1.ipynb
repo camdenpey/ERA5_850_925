{
 "cells": [
  {
   "cell_type": "code",
   "execution_count": 69,
   "id": "8e89b4a7-fbb5-4f53-a763-fc0d74e4512d",
   "metadata": {},
   "outputs": [],
   "source": [
    "import pandas as pd\n",
    "import datetime"
   ]
  },
  {
   "cell_type": "code",
   "execution_count": 70,
   "id": "743ae4f0-d550-4d04-b70f-0e0be38e4e99",
   "metadata": {},
   "outputs": [],
   "source": [
    "rawfile = pd.read_csv(\"S:/Science_and_Research/ASOS Data/SGF_ASOS.csv\")"
   ]
  },
  {
   "cell_type": "code",
   "execution_count": null,
   "id": "14edc472-026f-49f4-9fee-588f4b54bd03",
   "metadata": {},
   "outputs": [],
   "source": [
    "print(newfile)"
   ]
  },
  {
   "cell_type": "code",
   "execution_count": 78,
   "id": "2a92e2c4-59bd-4d0d-94d8-6a71a7cfe708",
   "metadata": {},
   "outputs": [],
   "source": [
    "newtime = pd.to_datetime(rawfile[\"valid\"])"
   ]
  },
  {
   "cell_type": "code",
   "execution_count": 82,
   "id": "9131a9ec-4196-467b-b153-12e999b1e0c2",
   "metadata": {},
   "outputs": [],
   "source": [
    "newfile = rawfile.assign(newtimes = newtime, )"
   ]
  },
  {
   "cell_type": "code",
   "execution_count": null,
   "id": "feb439cb-97a3-4d90-bf07-d8a6800b6df0",
   "metadata": {},
   "outputs": [],
   "source": []
  },
  {
   "cell_type": "code",
   "execution_count": null,
   "id": "546dfe77-aee7-47c6-a37d-847afec16d18",
   "metadata": {},
   "outputs": [],
   "source": [
    "for i in range(len(newfile)):\n",
    "    if newfile[\"newtimes\"][i].hour < 11 and newfile[\"newtimes\"][i].hour > 0:\n",
    "        newfile.drop(index = i, inplace = True)"
   ]
  },
  {
   "cell_type": "code",
   "execution_count": null,
   "id": "dbe3b9a5-718e-4270-9f6f-bc6bfe082f92",
   "metadata": {},
   "outputs": [],
   "source": []
  },
  {
   "cell_type": "code",
   "execution_count": null,
   "id": "efcfe49d-2fd3-482e-b81e-b0084cea2fe5",
   "metadata": {},
   "outputs": [],
   "source": []
  },
  {
   "cell_type": "code",
   "execution_count": null,
   "id": "1df80769-1e28-438f-80c3-bcc1320bd67d",
   "metadata": {},
   "outputs": [],
   "source": []
  }
 ],
 "metadata": {
  "kernelspec": {
   "display_name": "Python 3 (ipykernel)",
   "language": "python",
   "name": "python3"
  },
  "language_info": {
   "codemirror_mode": {
    "name": "ipython",
    "version": 3
   },
   "file_extension": ".py",
   "mimetype": "text/x-python",
   "name": "python",
   "nbconvert_exporter": "python",
   "pygments_lexer": "ipython3",
   "version": "3.12.4"
  }
 },
 "nbformat": 4,
 "nbformat_minor": 5
}
