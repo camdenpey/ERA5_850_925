{
 "cells": [
  {
   "cell_type": "code",
   "execution_count": 6,
   "id": "705e28d4-3735-4e68-a50d-4bb69c6feb09",
   "metadata": {},
   "outputs": [],
   "source": [
    "import pandas as pd"
   ]
  },
  {
   "cell_type": "code",
   "execution_count": 5,
   "id": "2cee3b29-17f1-4e52-a660-6c78fefb3882",
   "metadata": {},
   "outputs": [],
   "source": [
    "data = pd.read_csv(\"S:/Science_and_Research/ERA5_Reanalysis_1990-2020/SGF_850.csv\")"
   ]
  },
  {
   "cell_type": "code",
   "execution_count": 3,
   "id": "9b042175-0fed-46c8-83e8-14f1ad095583",
   "metadata": {},
   "outputs": [
    {
     "data": {
      "text/html": [
       "<div>\n",
       "<style scoped>\n",
       "    .dataframe tbody tr th:only-of-type {\n",
       "        vertical-align: middle;\n",
       "    }\n",
       "\n",
       "    .dataframe tbody tr th {\n",
       "        vertical-align: top;\n",
       "    }\n",
       "\n",
       "    .dataframe thead th {\n",
       "        text-align: right;\n",
       "    }\n",
       "</style>\n",
       "<table border=\"1\" class=\"dataframe\">\n",
       "  <thead>\n",
       "    <tr style=\"text-align: right;\">\n",
       "      <th></th>\n",
       "      <th>Unnamed: 0</th>\n",
       "      <th>Date</th>\n",
       "      <th>MaxTemperature</th>\n",
       "      <th>cc</th>\n",
       "      <th>temp850</th>\n",
       "    </tr>\n",
       "  </thead>\n",
       "  <tbody>\n",
       "    <tr>\n",
       "      <th>1</th>\n",
       "      <td>1</td>\n",
       "      <td>1990-01-02</td>\n",
       "      <td>49</td>\n",
       "      <td>0</td>\n",
       "      <td>276.021199</td>\n",
       "    </tr>\n",
       "    <tr>\n",
       "      <th>2</th>\n",
       "      <td>2</td>\n",
       "      <td>1990-01-03</td>\n",
       "      <td>60</td>\n",
       "      <td>1</td>\n",
       "      <td>281.130230</td>\n",
       "    </tr>\n",
       "    <tr>\n",
       "      <th>3</th>\n",
       "      <td>3</td>\n",
       "      <td>1990-01-04</td>\n",
       "      <td>49</td>\n",
       "      <td>0</td>\n",
       "      <td>272.434059</td>\n",
       "    </tr>\n",
       "    <tr>\n",
       "      <th>4</th>\n",
       "      <td>4</td>\n",
       "      <td>1990-01-05</td>\n",
       "      <td>49</td>\n",
       "      <td>0</td>\n",
       "      <td>272.550668</td>\n",
       "    </tr>\n",
       "    <tr>\n",
       "      <th>5</th>\n",
       "      <td>5</td>\n",
       "      <td>1990-01-06</td>\n",
       "      <td>50</td>\n",
       "      <td>0</td>\n",
       "      <td>272.297078</td>\n",
       "    </tr>\n",
       "    <tr>\n",
       "      <th>6</th>\n",
       "      <td>6</td>\n",
       "      <td>1990-01-07</td>\n",
       "      <td>51</td>\n",
       "      <td>0</td>\n",
       "      <td>273.357801</td>\n",
       "    </tr>\n",
       "    <tr>\n",
       "      <th>7</th>\n",
       "      <td>7</td>\n",
       "      <td>1990-01-08</td>\n",
       "      <td>60</td>\n",
       "      <td>0</td>\n",
       "      <td>277.583130</td>\n",
       "    </tr>\n",
       "    <tr>\n",
       "      <th>8</th>\n",
       "      <td>8</td>\n",
       "      <td>1990-01-09</td>\n",
       "      <td>57</td>\n",
       "      <td>0</td>\n",
       "      <td>278.045001</td>\n",
       "    </tr>\n",
       "    <tr>\n",
       "      <th>9</th>\n",
       "      <td>9</td>\n",
       "      <td>1990-01-10</td>\n",
       "      <td>69</td>\n",
       "      <td>0</td>\n",
       "      <td>279.285907</td>\n",
       "    </tr>\n",
       "  </tbody>\n",
       "</table>\n",
       "</div>"
      ],
      "text/plain": [
       "   Unnamed: 0        Date   MaxTemperature  cc     temp850\n",
       "1           1  1990-01-02               49   0  276.021199\n",
       "2           2  1990-01-03               60   1  281.130230\n",
       "3           3  1990-01-04               49   0  272.434059\n",
       "4           4  1990-01-05               49   0  272.550668\n",
       "5           5  1990-01-06               50   0  272.297078\n",
       "6           6  1990-01-07               51   0  273.357801\n",
       "7           7  1990-01-08               60   0  277.583130\n",
       "8           8  1990-01-09               57   0  278.045001\n",
       "9           9  1990-01-10               69   0  279.285907"
      ]
     },
     "execution_count": 3,
     "metadata": {},
     "output_type": "execute_result"
    }
   ],
   "source": [
    "data = data[pd.to_datetime(data[\"Date\"]).dt.month]"
   ]
  },
  {
   "cell_type": "code",
   "execution_count": null,
   "id": "7c18322e-ef3c-47b6-980d-4afbab1ad8a8",
   "metadata": {},
   "outputs": [],
   "source": []
  }
 ],
 "metadata": {
  "kernelspec": {
   "display_name": "Python 3 (ipykernel)",
   "language": "python",
   "name": "python3"
  },
  "language_info": {
   "codemirror_mode": {
    "name": "ipython",
    "version": 3
   },
   "file_extension": ".py",
   "mimetype": "text/x-python",
   "name": "python",
   "nbconvert_exporter": "python",
   "pygments_lexer": "ipython3",
   "version": "3.12.4"
  }
 },
 "nbformat": 4,
 "nbformat_minor": 5
}
