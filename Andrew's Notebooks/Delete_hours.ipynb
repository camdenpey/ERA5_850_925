{
 "cells": [
  {
   "cell_type": "code",
   "execution_count": 1,
   "id": "8e89b4a7-fbb5-4f53-a763-fc0d74e4512d",
   "metadata": {},
   "outputs": [],
   "source": [
    "import pandas as pd\n",
    "import datetime"
   ]
  },
  {
   "cell_type": "code",
   "execution_count": 2,
   "id": "743ae4f0-d550-4d04-b70f-0e0be38e4e99",
   "metadata": {},
   "outputs": [],
   "source": [
    "rawfile = pd.read_csv(\"S:/Science_and_Research/ASOS Data/VIH_ASOS.csv\")"
   ]
  },
  {
   "cell_type": "code",
   "execution_count": null,
   "id": "14edc472-026f-49f4-9fee-588f4b54bd03",
   "metadata": {},
   "outputs": [],
   "source": []
  },
  {
   "cell_type": "code",
   "execution_count": 112,
   "id": "2a92e2c4-59bd-4d0d-94d8-6a71a7cfe708",
   "metadata": {},
   "outputs": [],
   "source": [
    "newtime = pd.to_datetime(rawfile[\"valid\"])"
   ]
  },
  {
   "cell_type": "code",
   "execution_count": 113,
   "id": "9131a9ec-4196-467b-b153-12e999b1e0c2",
   "metadata": {},
   "outputs": [],
   "source": [
    "newfile = rawfile.assign(newtimes = newtime.dt.hour )"
   ]
  },
  {
   "cell_type": "code",
   "execution_count": 114,
   "id": "feb439cb-97a3-4d90-bf07-d8a6800b6df0",
   "metadata": {},
   "outputs": [
    {
     "name": "stdout",
     "output_type": "stream",
     "text": [
      "       station             valid skyc1 skyc2 skyc3  newtimes\n",
      "0          VIH  1990-01-01 00:00   BKN     M     M         0\n",
      "1          VIH  1990-01-01 01:00   OVC     M     M         1\n",
      "2          VIH  1990-01-01 02:00   OVC     M     M         2\n",
      "3          VIH  1990-01-01 03:00   OVC     M     M         3\n",
      "4          VIH  1990-01-01 04:00   OVC     M     M         4\n",
      "...        ...               ...   ...   ...   ...       ...\n",
      "236964     VIH  2019-12-31 19:53   CLR     M     M        19\n",
      "236965     VIH  2019-12-31 20:53   CLR     M     M        20\n",
      "236966     VIH  2019-12-31 21:53   CLR     M     M        21\n",
      "236967     VIH  2019-12-31 22:53   CLR     M     M        22\n",
      "236968     VIH  2019-12-31 23:53   CLR     M     M        23\n",
      "\n",
      "[236969 rows x 6 columns]\n"
     ]
    }
   ],
   "source": [
    "print(newfile)"
   ]
  },
  {
   "cell_type": "code",
   "execution_count": 115,
   "id": "546dfe77-aee7-47c6-a37d-847afec16d18",
   "metadata": {},
   "outputs": [],
   "source": [
    "newerfile = newfile[(newfile['newtimes'] >= 11) | (newfile['newtimes'] == 0)]"
   ]
  },
  {
   "cell_type": "code",
   "execution_count": 116,
   "id": "dbe3b9a5-718e-4270-9f6f-bc6bfe082f92",
   "metadata": {},
   "outputs": [
    {
     "name": "stdout",
     "output_type": "stream",
     "text": [
      "       station             valid skyc1 skyc2 skyc3  newtimes\n",
      "0          VIH  1990-01-01 00:00   BKN     M     M         0\n",
      "5          VIH  1990-01-01 13:00   CLR                    13\n",
      "6          VIH  1990-01-01 14:00   CLR                    14\n",
      "7          VIH  1990-01-01 15:00   CLR                    15\n",
      "8          VIH  1990-01-01 16:00   CLR                    16\n",
      "...        ...               ...   ...   ...   ...       ...\n",
      "236964     VIH  2019-12-31 19:53   CLR     M     M        19\n",
      "236965     VIH  2019-12-31 20:53   CLR     M     M        20\n",
      "236966     VIH  2019-12-31 21:53   CLR     M     M        21\n",
      "236967     VIH  2019-12-31 22:53   CLR     M     M        22\n",
      "236968     VIH  2019-12-31 23:53   CLR     M     M        23\n",
      "\n",
      "[145927 rows x 6 columns]\n"
     ]
    }
   ],
   "source": [
    "print(newerfile)"
   ]
  },
  {
   "cell_type": "code",
   "execution_count": 117,
   "id": "efcfe49d-2fd3-482e-b81e-b0084cea2fe5",
   "metadata": {},
   "outputs": [],
   "source": [
    "newerfile.to_csv(\"S:/Science_and_Research/ASOS Data/VIH_ASOS_Done.csv\")"
   ]
  },
  {
   "cell_type": "code",
   "execution_count": 39,
   "id": "1df80769-1e28-438f-80c3-bcc1320bd67d",
   "metadata": {},
   "outputs": [
    {
     "name": "stdout",
     "output_type": "stream",
     "text": [
      "247576    15\n",
      "247577    16\n",
      "247578    17\n",
      "247579    18\n",
      "247580    19\n",
      "247581    20\n",
      "247582    21\n",
      "247583    22\n",
      "247584    23\n",
      "247585     0\n",
      "247586     1\n",
      "247587     2\n",
      "247588     3\n",
      "247589     4\n",
      "247590     5\n",
      "247591     6\n",
      "247592     7\n",
      "247593     8\n",
      "247594     9\n",
      "247595    10\n",
      "247596    11\n",
      "247597    12\n",
      "247598    13\n",
      "247599    14\n",
      "Name: newtimes, dtype: int32\n"
     ]
    }
   ],
   "source": []
  },
  {
   "cell_type": "code",
   "execution_count": null,
   "id": "97660fce-5275-4ea3-8a15-7335986f0a37",
   "metadata": {},
   "outputs": [],
   "source": []
  },
  {
   "cell_type": "code",
   "execution_count": null,
   "id": "3d54f809-13e1-41b9-9934-1457c7263482",
   "metadata": {},
   "outputs": [],
   "source": []
  },
  {
   "cell_type": "code",
   "execution_count": null,
   "id": "2abb6767-8682-4950-bbd1-4b9610ae436c",
   "metadata": {},
   "outputs": [],
   "source": []
  }
 ],
 "metadata": {
  "kernelspec": {
   "display_name": "Python 3 (ipykernel)",
   "language": "python",
   "name": "python3"
  },
  "language_info": {
   "codemirror_mode": {
    "name": "ipython",
    "version": 3
   },
   "file_extension": ".py",
   "mimetype": "text/x-python",
   "name": "python",
   "nbconvert_exporter": "python",
   "pygments_lexer": "ipython3",
   "version": "3.12.4"
  }
 },
 "nbformat": 4,
 "nbformat_minor": 5
}
