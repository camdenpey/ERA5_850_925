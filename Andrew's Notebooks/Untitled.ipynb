{
 "cells": [
  {
   "cell_type": "code",
   "execution_count": 85,
   "id": "d1f6371c-8eec-4cd3-9758-4fbd4c12e43e",
   "metadata": {},
   "outputs": [],
   "source": [
    "import cdsapi\n",
    "\n",
    "#select and name the lat/lon locations you want the data for\n",
    "COORDS = {\n",
    "        \"Springfield\":[37.235,  -93.402],  \n",
    "        \"Joplin\":[37.156, -94.503],  \n",
    "        \"West Plains\":[36.879, -91.905],   \n",
    "        \"Vichy\":[38.131, -91.764] \n",
    "        }"
   ]
  },
  {
   "cell_type": "code",
   "execution_count": 205,
   "id": "fc29b577-c1f2-49fe-8b6e-20c51b0d02bc",
   "metadata": {},
   "outputs": [],
   "source": [
    "#select your year and month in YYYY and M format (i.e. 1990, 1)\n",
    "\n",
    "selected_year = 1991\n",
    "selected_month = 9"
   ]
  },
  {
   "cell_type": "code",
   "execution_count": 206,
   "id": "a4144531-2e86-427d-9459-cf1a565c1d00",
   "metadata": {},
   "outputs": [],
   "source": [
    "#convert your chosen month to strings for the downloader to parse and to\n",
    "#name the file and whatever \n",
    "\n",
    "import datetime\n",
    "#remove the 0 after the f for months 10,11, and 12, add back for single digits\n",
    "input = f'0{selected_month}/{selected_year}'\n",
    "my_date = datetime.datetime.strptime(input, \"%m/%Y\")\n",
    "convert_my_date = datetime.datetime.strftime(my_date, '%Y_%B')\n",
    "\n",
    "#add a zero in front of the month number so the downloader takes it\n",
    "month_conversion = f'0{selected_month}'\n",
    "\n"
   ]
  },
  {
   "cell_type": "code",
   "execution_count": 207,
   "id": "bff15a4a-086c-46fd-b1f4-14aa0e69ed6e",
   "metadata": {},
   "outputs": [],
   "source": [
    "#could also add a function to add, adjust, change any of the following:\n",
    "#dataset used, variables pulled, pressure levels, or format of output\n",
    "\n",
    "#could also add a dictionary for pressure specifically if wanting to add that to\n",
    "#the file name"
   ]
  },
  {
   "cell_type": "code",
   "execution_count": null,
   "id": "9b8765f0-1808-4804-a096-aefa3c71031d",
   "metadata": {},
   "outputs": [
    {
     "name": "stderr",
     "output_type": "stream",
     "text": [
      "2024-06-27 17:37:51,859 INFO Welcome to the CDS\n",
      "2024-06-27 17:37:51,861 INFO Sending request to https://cds.climate.copernicus.eu/api/v2/resources/reanalysis-era5-single-levels\n",
      "2024-06-27 17:37:52,073 INFO Request is queued\n",
      "2024-06-27 17:37:53,231 INFO Request is running\n",
      "2024-06-27 17:39:46,961 INFO Request is completed\n",
      "2024-06-27 17:39:46,962 INFO Downloading https://download-0002-clone.copernicus-climate.eu/cache-compute-0002/cache/data3/adaptor.mars.internal-1719527960.7555845-17485-2-94f41016-0776-4b65-a8b6-45f95c7ada77.nc to Springfield_1991_September_clouds.nc (6.4K)\n",
      "2024-06-27 17:39:48,084 INFO Download rate 5.7K/s                                                                      \n",
      "2024-06-27 17:39:48,395 INFO Welcome to the CDS\n",
      "2024-06-27 17:39:48,396 INFO Sending request to https://cds.climate.copernicus.eu/api/v2/resources/reanalysis-era5-single-levels\n",
      "2024-06-27 17:39:48,557 INFO Request is queued\n",
      "2024-06-27 17:39:49,712 INFO Request is running\n",
      "2024-06-27 17:41:43,441 INFO Request is completed\n",
      "2024-06-27 17:41:43,442 INFO Downloading https://download-0019.copernicus-climate.eu/cache-compute-0019/cache/data7/adaptor.mars.internal-1719528078.4553256-9052-12-01f273fb-df56-4a06-8fe0-2cbc064f3927.nc to Joplin_1991_September_clouds.nc (6.4K)\n",
      "2024-06-27 17:41:44,072 INFO Download rate 10.1K/s                                                                     \n",
      "2024-06-27 17:41:44,390 INFO Welcome to the CDS\n",
      "2024-06-27 17:41:44,392 INFO Sending request to https://cds.climate.copernicus.eu/api/v2/resources/reanalysis-era5-single-levels\n",
      "2024-06-27 17:41:44,701 INFO Request is queued\n",
      "2024-06-27 17:41:45,857 INFO Request is running\n",
      "2024-06-27 17:43:39,614 INFO Request is completed\n",
      "2024-06-27 17:43:39,616 INFO Downloading https://download-0013-clone.copernicus-climate.eu/cache-compute-0013/cache/data9/adaptor.mars.internal-1719528189.0454757-13486-17-bc14fb4c-cadc-4df2-abc8-022bddecb629.nc to West Plains_1991_September_clouds.nc (6.4K)\n",
      "2024-06-27 17:43:40,743 INFO Download rate 5.7K/s                                                                      \n",
      "2024-06-27 17:43:41,054 INFO Welcome to the CDS\n",
      "2024-06-27 17:43:41,055 INFO Sending request to https://cds.climate.copernicus.eu/api/v2/resources/reanalysis-era5-single-levels\n",
      "2024-06-27 17:43:41,230 INFO Request is queued\n",
      "2024-06-27 17:43:42,388 INFO Request is running\n"
     ]
    }
   ],
   "source": [
    "#retrieve the data\n",
    "c = cdsapi.Client()\n",
    "    \n",
    "for station in COORDS:\n",
    "  station_point_coord = COORDS[station]*2 # duplicate it\n",
    "  c.retrieve(\n",
    "      'reanalysis-era5-single-levels',\n",
    "      {\n",
    "          'product_type': 'reanalysis',\n",
    "          'variable': ['cloud_base_height','total_cloud_cover','medium_cloud_cover','high_cloud_cover',],\n",
    "          'year': f'{selected_year}',\n",
    "          'month': f'{month_conversion}',\n",
    "          'day': [\n",
    "              '01', '02', '03',\n",
    "              '04', '05', '06',\n",
    "              '07', '08', '09',\n",
    "              '10', '11', '12',\n",
    "              '13', '14', '15',\n",
    "              '16', '17', '18',\n",
    "              '19', '20', '21',\n",
    "              '22', '23', '24',\n",
    "              '25', '26', '27',\n",
    "              '28', '29', '30',\n",
    "              '31',\n",
    "          ],\n",
    "          'time': ['0:00', '12:00','13:00','14:00','15:00','16:00','17:00','18:00','19:00','20:00','21:00','22:00','23:00',],\n",
    "          'area': station_point_coord,\n",
    "          'format': 'netcdf',\n",
    "      },\n",
    "      f'{station}_{convert_my_date}_clouds.nc')\n",
    "\n",
    "#you'll know it ran correctly if a pink box appears underneath and the status says queued\n",
    "#and the output will be available in the active directory if it gives you a download rate\n",
    "#after a link showing the proper file name\n",
    "\n",
    "#...if that makes sense"
   ]
  },
  {
   "cell_type": "code",
   "execution_count": 202,
   "id": "6519af77-c608-4ad0-a7f8-ec8b8698fdb6",
   "metadata": {},
   "outputs": [],
   "source": [
    "#local_storage_directory should be the location you're actively running\n",
    "local_storage_directory = 'C:/Users/sgfsad/netcdf/'\n",
    "\n",
    "#netcdf_dir should be where the netcdf is saved to\n",
    "#uncomment (delete the #) before ' + 'directory/' if you don't have a different\n",
    "#folder for the netcdf rather than your working directory\n",
    "netcdf_dir = local_storage_directory #+ 'netcdf/'\n",
    "\n",
    "#csv_dir is where the converted file should be saved to, which is the shared drive\n",
    "csv_dir = 'S:/Science_and_Research/ERA5_Reanalysis_1990-2020/'"
   ]
  },
  {
   "cell_type": "code",
   "execution_count": 203,
   "id": "bf08d81d-ca50-40d6-9161-64d0932baeb4",
   "metadata": {},
   "outputs": [],
   "source": [
    "#imports\n",
    "import xarray as xr\n",
    "import os"
   ]
  },
  {
   "cell_type": "code",
   "execution_count": 204,
   "id": "cf97069a-a47e-42e0-8b65-83810a4cadf4",
   "metadata": {},
   "outputs": [],
   "source": [
    "# Replace the file name in quote by the file name of the netcdf file (.nc) you want to convert to csv\n",
    "\n",
    "for station in COORDS: \n",
    "    #Set variables names for the input file.nc (netcdf_file_in) and the output file.csv (`csv_file_out`)\n",
    "    netcdf_file_name = f'{station}_{convert_my_date}_clouds.nc'\n",
    "    netcdf_file_in = netcdf_dir + netcdf_file_name\n",
    "    csv_file_out = csv_dir + netcdf_file_name[:-3] + '.csv'\n",
    "    #convert\n",
    "    ds = xr.open_dataset(netcdf_file_in)\n",
    "    df = ds.to_dataframe()\n",
    "    df.to_csv(csv_file_out)"
   ]
  },
  {
   "cell_type": "code",
   "execution_count": null,
   "id": "77f93403-22e8-4f48-b091-b2f70fc159f0",
   "metadata": {},
   "outputs": [],
   "source": []
  }
 ],
 "metadata": {
  "kernelspec": {
   "display_name": "Python 3 (ipykernel)",
   "language": "python",
   "name": "python3"
  },
  "language_info": {
   "codemirror_mode": {
    "name": "ipython",
    "version": 3
   },
   "file_extension": ".py",
   "mimetype": "text/x-python",
   "name": "python",
   "nbconvert_exporter": "python",
   "pygments_lexer": "ipython3",
   "version": "3.12.4"
  }
 },
 "nbformat": 4,
 "nbformat_minor": 5
}
