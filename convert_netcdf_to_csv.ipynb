{
 "cells": [
  {
   "cell_type": "code",
   "execution_count": 12,
   "id": "5b0a0509-0525-4fa8-8272-fb274c9943a8",
   "metadata": {},
   "outputs": [],
   "source": [
    "# Replace 'local_storage_directory', 'netcdf_dir' and 'csv_dir' by respectively\n",
    "# the directory path to Copernicus Marine data, the directory path to netcdf files\n",
    "# and the directory path to csv files\n",
    "local_storage_directory = 'C:/Users/peyton.camden/'\n",
    "netcdf_dir = local_storage_directory + 'netcdf/' #'Notebooks/'\n",
    "#csv_dir = local_storage_directory + 'csv/'\n",
    "csv_dir = 'S:/Science_and_Research/ERA5_Reanalysis_1990-2020/JLN/'"
   ]
  },
  {
   "cell_type": "code",
   "execution_count": 2,
   "id": "67f726f4-7dcc-4c38-8297-36b63794ad68",
   "metadata": {},
   "outputs": [],
   "source": [
    "import xarray as xr\n",
    "import os"
   ]
  },
  {
   "cell_type": "code",
   "execution_count": 13,
   "id": "3596b678-7d2c-4c0c-9807-49c53d5296a5",
   "metadata": {},
   "outputs": [],
   "source": [
    "# Replace the file name in quote by the file name of the netcdf file (.nc) you want to convert to csv\n",
    "netcdf_file_name = 'Joplin_1990_January.nc'"
   ]
  },
  {
   "cell_type": "code",
   "execution_count": 14,
   "id": "a3dfcef6-0992-4e0a-9fc4-deb231d1806d",
   "metadata": {},
   "outputs": [],
   "source": [
    "# Set variables names for the input file.nc (netcdf_file_in) and the output file.csv (`csv_file_out`)\n",
    "netcdf_file_in = netcdf_dir + netcdf_file_name\n",
    "csv_file_out = csv_dir + netcdf_file_name[:-3] + '.csv'"
   ]
  },
  {
   "cell_type": "code",
   "execution_count": 15,
   "id": "27c29a20-21e2-49c9-ae36-5eaf38016e61",
   "metadata": {},
   "outputs": [],
   "source": [
    "ds = xr.open_dataset(netcdf_file_in)\n",
    "df = ds.to_dataframe()\n",
    "\n",
    "df.to_csv(csv_file_out)"
   ]
  },
  {
   "cell_type": "code",
   "execution_count": null,
   "id": "593c5f24-f118-4b71-8797-36c78d1d5498",
   "metadata": {},
   "outputs": [],
   "source": []
  }
 ],
 "metadata": {
  "kernelspec": {
   "display_name": "Python 3 (ipykernel)",
   "language": "python",
   "name": "python3"
  },
  "language_info": {
   "codemirror_mode": {
    "name": "ipython",
    "version": 3
   },
   "file_extension": ".py",
   "mimetype": "text/x-python",
   "name": "python",
   "nbconvert_exporter": "python",
   "pygments_lexer": "ipython3",
   "version": "3.12.2"
  }
 },
 "nbformat": 4,
 "nbformat_minor": 5
}
