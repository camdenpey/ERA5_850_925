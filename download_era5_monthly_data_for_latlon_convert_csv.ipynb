{
 "cells": [
  {
   "cell_type": "markdown",
   "id": "cfd6b390-2e2d-4719-a926-5329815bc952",
   "metadata": {},
   "source": [
    "##### Download Data\n",
    "\n",
    "prerequisites: cdstoolbox, xarray, os"
   ]
  },
  {
   "cell_type": "code",
   "execution_count": null,
   "id": "0c000322-de2d-40c0-a6df-8ed973cb9699",
   "metadata": {},
   "outputs": [],
   "source": [
    "import cdsapi\n",
    "\n",
    "#select and name the lat/lon locations you want the data for\n",
    "COORDS = {\n",
    "        \"Springfield\":[37.235,  -93.402],  \n",
    "        \"Joplin\":[37.156, -94.503],  \n",
    "        \"West Plains\":[36.879, -91.905],   \n",
    "        \"Vichy\":[38.131, -91.764] \n",
    "        }\n",
    "\n",
    "#adjust pressure level as desired, change year/month/days, time, and format\n",
    "#i manually adjusted the name of the output file to reflect the month/year of the requested data\n",
    "#could add a function to name the file automatically but i'm lazy\n",
    "\n",
    "c = cdsapi.Client()\n",
    "    \n",
    "for station in COORDS:\n",
    "  station_point_coord = COORDS[station]*2 # duplicate it\n",
    "  c.retrieve(\n",
    "      'reanalysis-era5-pressure-levels',\n",
    "      {\n",
    "          'product_type': 'reanalysis',\n",
    "          'variable': 'temperature',\n",
    "          'pressure_level': [\n",
    "            '850', '925',\n",
    "        ],\n",
    "          'year': '1990',\n",
    "          'month': '02',\n",
    "          'day': [\n",
    "              '01', '02', '03',\n",
    "              '04', '05', '06',\n",
    "              '07', '08', '09',\n",
    "              '10', '11', '12',\n",
    "              '13', '14', '15',\n",
    "              '16', '17', '18',\n",
    "              '19', '20', '21',\n",
    "              '22', '23', '24',\n",
    "              '25', '26', '27',\n",
    "              '28', '29', '30',\n",
    "              '31',\n",
    "          ],\n",
    "          'time': '12:00',\n",
    "          'area': station_point_coord,\n",
    "          'format': 'netcdf',\n",
    "      },\n",
    "      f'{station}_1990_February.nc')"
   ]
  },
  {
   "cell_type": "markdown",
   "id": "90d40ca5-1865-4ea8-a4c5-b29448c38b6e",
   "metadata": {},
   "source": [
    "##### Convert to csv"
   ]
  },
  {
   "cell_type": "code",
   "execution_count": 1,
   "id": "1a356d1f-96fc-4d38-8d95-c4821bc702d9",
   "metadata": {},
   "outputs": [],
   "source": [
    "# Replace 'local_storage_directory', 'netcdf_dir' and 'csv_dir' by respectively\n",
    "# the directory path to Copernicus Marine data, the directory path to netcdf files\n",
    "# and the directory path to csv files\n",
    "local_storage_directory = 'C:/Users/peyton.camden/'\n",
    "netcdf_dir = local_storage_directory + 'netcdf/'\n",
    "csv_dir = local_storage_directory + 'csv/'"
   ]
  },
  {
   "cell_type": "code",
   "execution_count": 2,
   "id": "4f008a25-0620-4ebc-b383-08fbef307703",
   "metadata": {},
   "outputs": [],
   "source": [
    "#imports\n",
    "import xarray as xr\n",
    "import os"
   ]
  },
  {
   "cell_type": "code",
   "execution_count": 9,
   "id": "34ea2410-24cf-46ad-81d0-9e50ff4419dc",
   "metadata": {},
   "outputs": [],
   "source": [
    "# Replace the file name in quote by the file name of the netcdf file (.nc) you want to convert to csv\n",
    "netcdf_file_name = 'Joplin_1990_February.nc'"
   ]
  },
  {
   "cell_type": "code",
   "execution_count": 10,
   "id": "4ae28a95-2889-4efe-9d1a-09fe6c743874",
   "metadata": {},
   "outputs": [],
   "source": [
    "# Set variables names for the input file.nc (netcdf_file_in) and the output file.csv (`csv_file_out`)\n",
    "netcdf_file_in = netcdf_dir + netcdf_file_name\n",
    "csv_file_out = csv_dir + netcdf_file_name[:-3] + '.csv'"
   ]
  },
  {
   "cell_type": "code",
   "execution_count": 11,
   "id": "91197acd-d0e2-4072-8de3-1b1b7ab066a6",
   "metadata": {},
   "outputs": [],
   "source": [
    "ds = xr.open_dataset(netcdf_file_in)\n",
    "df = ds.to_dataframe()\n",
    "\n",
    "df.to_csv(csv_file_out)"
   ]
  }
 ],
 "metadata": {
  "kernelspec": {
   "display_name": "Python 3 (ipykernel)",
   "language": "python",
   "name": "python3"
  },
  "language_info": {
   "codemirror_mode": {
    "name": "ipython",
    "version": 3
   },
   "file_extension": ".py",
   "mimetype": "text/x-python",
   "name": "python",
   "nbconvert_exporter": "python",
   "pygments_lexer": "ipython3",
   "version": "3.12.2"
  }
 },
 "nbformat": 4,
 "nbformat_minor": 5
}
