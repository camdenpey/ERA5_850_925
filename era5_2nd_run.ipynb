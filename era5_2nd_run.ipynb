{
 "cells": [
  {
   "cell_type": "code",
   "execution_count": null,
   "id": "a731963e-26dc-4650-849d-67222a60c3b9",
   "metadata": {},
   "outputs": [
    {
     "name": "stderr",
     "output_type": "stream",
     "text": [
      "2024-05-31 14:30:40,503 INFO Welcome to the CDS\n",
      "2024-05-31 14:30:40,505 INFO Sending request to https://cds.climate.copernicus.eu/api/v2/resources/reanalysis-era5-pressure-levels\n",
      "2024-05-31 14:30:40,740 INFO Request is queued\n"
     ]
    }
   ],
   "source": [
    "import cdsapi\n",
    "    \n",
    "COORDS = {\n",
    "        \"Springfield\":[37.235,  -93.402]\n",
    "        #\"Joplin\":[37.156, -94.503], \n",
    "        #\"West Plains\":[36.879, -91.905], \n",
    "        #\"Vichy\":[38.131, -91.764]\n",
    "        }\n",
    "\n",
    "\n",
    "c = cdsapi.Client()\n",
    "    \n",
    "for station in COORDS:\n",
    "  station_point_coord = COORDS[station]*2 # duplicate it\n",
    "  c.retrieve(\n",
    "      'reanalysis-era5-pressure-levels',\n",
    "      {\n",
    "          'product_type': 'reanalysis',\n",
    "          'variable': 'temperature',\n",
    "          'pressure_level': [\n",
    "            '850', '925',\n",
    "        ],\n",
    "          'year': '1991',\n",
    "          'month': '02',\n",
    "          'day': [\n",
    "              '01', '02', '03',\n",
    "              '04', '05', '06',\n",
    "              '07', '08', '09',\n",
    "              '10', '11', '12',\n",
    "              '13', '14', '15',\n",
    "              '16', '17', '18',\n",
    "              '19', '20', '21',\n",
    "              '22', '23', '24',\n",
    "              '25', '26', '27',\n",
    "              '28', '29', '30',\n",
    "              '31',\n",
    "          ],\n",
    "          'time': '12:00',\n",
    "          'area': station_point_coord,\n",
    "          'format': 'netcdf',\n",
    "      },\n",
    "      f'{station}_1991_February.nc')"
   ]
  },
  {
   "cell_type": "code",
   "execution_count": null,
   "id": "4e64824e-6cb2-41c3-a446-1829998064ca",
   "metadata": {},
   "outputs": [],
   "source": []
  }
 ],
 "metadata": {
  "kernelspec": {
   "display_name": "Python 3 (ipykernel)",
   "language": "python",
   "name": "python3"
  },
  "language_info": {
   "codemirror_mode": {
    "name": "ipython",
    "version": 3
   },
   "file_extension": ".py",
   "mimetype": "text/x-python",
   "name": "python",
   "nbconvert_exporter": "python",
   "pygments_lexer": "ipython3",
   "version": "3.12.2"
  }
 },
 "nbformat": 4,
 "nbformat_minor": 5
}
